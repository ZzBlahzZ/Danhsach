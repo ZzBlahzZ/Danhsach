{
 "cells": [
  {
   "cell_type": "code",
   "execution_count": 6,
   "id": "5b0d4772",
   "metadata": {},
   "outputs": [
    {
     "data": {
      "text/plain": [
       "'The aquatic life with steve zissou '"
      ]
     },
     "metadata": {},
     "output_type": "display_data"
    },
    {
     "data": {
      "text/plain": [
       "'The Budapes hotel'"
      ]
     },
     "metadata": {},
     "output_type": "display_data"
    },
    {
     "data": {
      "text/plain": [
       "'The darjeeling limited'"
      ]
     },
     "metadata": {},
     "output_type": "display_data"
    },
    {
     "data": {
      "text/plain": [
       "'Fantastic mr.Fox'"
      ]
     },
     "metadata": {},
     "output_type": "display_data"
    },
    {
     "data": {
      "text/plain": [
       "'How i met your mother'"
      ]
     },
     "metadata": {},
     "output_type": "display_data"
    },
    {
     "data": {
      "text/plain": [
       "'Interstella'"
      ]
     },
     "metadata": {},
     "output_type": "display_data"
    }
   ],
   "source": [
    "display(\"The aquatic life with steve zissou \")\n",
    "display(\"The Budapes hotel\")\n",
    "display(\"The darjeeling limited\")\n",
    "display(\"Fantastic mr.Fox\")\n",
    "display(\"How i met your mother\")\n",
    "display(\"Interstella\")\n"
   ]
  },
  {
   "cell_type": "code",
   "execution_count": null,
   "id": "90422d8a",
   "metadata": {},
   "outputs": [],
   "source": []
  },
  {
   "cell_type": "code",
   "execution_count": null,
   "id": "ffcdf037",
   "metadata": {},
   "outputs": [],
   "source": []
  }
 ],
 "metadata": {
  "kernelspec": {
   "display_name": "Python 3",
   "language": "python",
   "name": "python3"
  },
  "language_info": {
   "codemirror_mode": {
    "name": "ipython",
    "version": 3
   },
   "file_extension": ".py",
   "mimetype": "text/x-python",
   "name": "python",
   "nbconvert_exporter": "python",
   "pygments_lexer": "ipython3",
   "version": "3.8.8"
  }
 },
 "nbformat": 4,
 "nbformat_minor": 5
}
