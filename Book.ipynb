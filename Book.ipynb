{
 "cells": [
  {
   "cell_type": "code",
   "execution_count": null,
   "id": "486bfc5d",
   "metadata": {},
   "outputs": [],
   "source": [
    "display(\"Once upon a time \")\n",
    "display(\"Leaf inside Leaf\")\n",
    "display(\"Passing the Roses\")\n",
    "display(\"Red Autumn\")\n",
    "display(\"What left to remember\")\n",
    "display(\"One Trip to Childhood\")\n",
    "display(\"Death by daylight\")\n",
    "display(\"Sherlockhome \")\n",
    "display(\"Batman\")\n",
    "display(\"Final\")"
   ]
  }
 ],
 "metadata": {
  "kernelspec": {
   "display_name": "Python 3",
   "language": "python",
   "name": "python3"
  },
  "language_info": {
   "codemirror_mode": {
    "name": "ipython",
    "version": 3
   },
   "file_extension": ".py",
   "mimetype": "text/x-python",
   "name": "python",
   "nbconvert_exporter": "python",
   "pygments_lexer": "ipython3",
   "version": "3.8.8"
  }
 },
 "nbformat": 4,
 "nbformat_minor": 5
}
